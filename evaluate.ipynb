{
 "metadata": {
  "language_info": {
   "codemirror_mode": {
    "name": "ipython",
    "version": 3
   },
   "file_extension": ".py",
   "mimetype": "text/x-python",
   "name": "python",
   "nbconvert_exporter": "python",
   "pygments_lexer": "ipython3",
   "version": "3.8.6-final"
  },
  "orig_nbformat": 2,
  "kernelspec": {
   "name": "audiosp_env",
   "display_name": "audiosp_env",
   "language": "python"
  }
 },
 "nbformat": 4,
 "nbformat_minor": 2,
 "cells": [
  {
   "cell_type": "code",
   "execution_count": 7,
   "metadata": {},
   "outputs": [
    {
     "output_type": "stream",
     "name": "stdout",
     "text": [
      "(pesq_mos, mos_lqo):  (nan, 1.917860507965088)\nstoi:  0.8816197709883894\n"
     ]
    }
   ],
   "source": [
    "import numpy as np\n",
    "import librosa as lr\n",
    "import pysepm\n",
    "# from pystoi import stoi\n",
    "# from pesq import pesq as pesq_old\n",
    "# from pypesq import pesq\n",
    "\n",
    "# def stoi_wrapper(ref, denoised, sr, extension = True):\n",
    "#     d = stoi(ref, denoised, sr, extended = extension)\n",
    "#     return 100 / (1 + np.exp(-13.1903 * d + 6.5192))\n",
    "\n",
    "\n",
    "# def pesq_wrapper(ref, denoised, sr, mode = 'nb'):\n",
    "#     # p = pesq(sr, ref, denoised, mode) # Raw scores in [-0.5, 4.5]\n",
    "#     p = pesq(ref, denoised, sr)\n",
    "#     # mapping to MOS-LQO\n",
    "#     return p\n",
    "#     return 0.999 + (4.999 - 0.999) / (1 + np.exp(-1.4945 * p + 4.6607))\n",
    "\n",
    "\n",
    "test_num = 6\n",
    "duration = 15 # in seconds\n",
    "# (x, rate) = lr.load(\"/home/adam/nnom/examples/rnn-denoise/MS-SNSD/CleanSpeech_training/clnsp\"+str(test_num)+\".wav\", sr=16000)\n",
    "# (x, rate) = lr.load(\"/home/adam/nnom/examples/rnn-denoise/_clean_sample.wav\", sr=16000, duration=duration)\n",
    "# (x, rate) = lr.load(\"/home/adam/nnom/examples/rnn-denoise/_clean_sample.wav\", sr=16000)\n",
    "x, rate = lr.load(\"_clean_sample.wav\", sr=16000)\n",
    "x = np.asarray(x * 32767, dtype=np.int16)\n",
    "# x = x[50_000::-1]\n",
    "\n",
    "# fs, _ = lr.load(\"/home/adam/nnom/examples/rnn-denoise/MS-SNSD/NoisySpeech_training/noisy\"+str(test_num)+\"_SNRdb_10.0_clnsp\"+str(test_num)+\".wav\", sr=16000)\n",
    "# (fs, _) = lr.load(\"/home/adam/nnom/examples/rnn-denoise/_noisy_sample.wav\", sr=16000)\n",
    "# fs, _ = lr.load(\"_nn_filtered_sample_new.wav\", sr=16000, duration=duration)\n",
    "fs, _ = lr.load(\"_filtered_sample.wav\", sr=16000)\n",
    "\n",
    "fs = np.asarray(fs * 32767, dtype=np.int16)\n",
    "# fs = fs[50_000::-1]\n",
    "\n",
    "# mos_lqo = pesq_wrapper(ref=x, denoised=fs, sr=rate)\n",
    "mos_lqo = pysepm.pesq(x, fs, rate)\n",
    "print('(pesq_mos, mos_lqo): ', mos_lqo)\n",
    "stoi = pysepm.stoi(x, fs, rate)\n",
    "print('stoi: ', stoi)\n",
    "# mos_lqo_old = pesq_wrapper_old(ref=x, denoised=fs, sr=rate, mode='nb')\n",
    "# print('mos_lqo_old: ', mos_lqo_old)"
   ]
  },
  {
   "cell_type": "code",
   "execution_count": null,
   "metadata": {},
   "outputs": [],
   "source": [
    "# Example number 12 SNR-10dB\n",
    "\n",
    "# Ground truth gains denoising\n",
    "# mos_lqo:  2.472447558810128\n",
    "# stoi:  96.05953646498601\n",
    "\n",
    "# Noisy sample\n",
    "# mos_lqo:  1.995341522627038\n",
    "# stoi:  86.67690259493858\n",
    "\n",
    "# My pipeline - 10 epochs\n",
    "# mos_lqo:  2.0473353667739125\n",
    "# stoi:  87.8343377281447\n",
    "\n",
    "# My pipeline - 50 epochs\n",
    "# mos_lqo:  2.0430968705743444\n",
    "# stoi:  87.38237645022616"
   ]
  },
  {
   "cell_type": "code",
   "execution_count": null,
   "metadata": {},
   "outputs": [],
   "source": [
    "# Example number 12 SNR-20dB\n",
    "\n",
    "# Ground truth gains denoising\n",
    "# mos_lqo:  2.979893965980971\n",
    "# stoi:  97.61356275642655\n",
    "\n",
    "# Noisy sample\n",
    "# mos_lqo:  2.4411236502604625\n",
    "# stoi:  94.08093011888587\n",
    "\n",
    "# My pipeline - 10 epochs\n",
    "# mos_lqo:  \n",
    "# stoi:  \n",
    "\n",
    "# My pipeline - 50 epochs\n",
    "# mos_lqo:  2.4770364812391112\n",
    "# stoi:  94.17994015547963"
   ]
  }
 ]
}